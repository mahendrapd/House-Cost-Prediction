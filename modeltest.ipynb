{
 "cells": [
  {
   "cell_type": "code",
   "execution_count": 1,
   "metadata": {},
   "outputs": [
    {
     "name": "stdout",
     "output_type": "stream",
     "text": [
      "Linear Regression Performance:\n",
      "MSE: 0.44\n",
      "R2: 0.509\n"
     ]
    }
   ],
   "source": [
    "import pandas as pd\n",
    "import numpy as np\n",
    "from sklearn.linear_model import LinearRegression\n",
    "from sklearn.model_selection import train_test_split\n",
    "from sklearn.metrics import mean_squared_error, r2_score\n",
    "\n",
    "# Load the preprocessed CSV file\n",
    "df = pd.read_csv(\"final_data.csv\")\n",
    "\n",
    "# Drop the 'title' column since it's not used for prediction\n",
    "df = df.drop(columns=[\"title\"])\n",
    "\n",
    "# Create a log-transformed target variable (helps with skewness)\n",
    "df['log_price'] = np.log(df['price'])\n",
    "\n",
    "# Define features (X) and target (y)\n",
    "X = df.drop(columns=['price', 'log_price'])\n",
    "y = df['log_price']\n",
    "\n",
    "# Split data into training and testing sets\n",
    "X_train, X_test, y_train, y_test = train_test_split(X, y, test_size=0.2, random_state=42)\n",
    "\n",
    "# Initialize the model\n",
    "lr = LinearRegression()\n",
    "\n",
    "# Train the model\n",
    "lr.fit(X_train, y_train)\n",
    "\n",
    "# Make predictions\n",
    "y_pred = lr.predict(X_test)\n",
    "\n",
    "# Evaluate performance\n",
    "mse = mean_squared_error(y_test, y_pred)\n",
    "r2 = r2_score(y_test, y_pred)\n",
    "\n",
    "print(\"Linear Regression Performance:\")\n",
    "print(\"MSE: {:.2f}\".format(mse))\n",
    "print(\"R2: {:.3f}\".format(r2))\n"
   ]
  },
  {
   "cell_type": "code",
   "execution_count": 2,
   "metadata": {},
   "outputs": [
    {
     "name": "stdout",
     "output_type": "stream",
     "text": [
      "Random Forest Regressor Performance:\n",
      "MSE: 0.08\n",
      "R2: 0.915\n"
     ]
    }
   ],
   "source": [
    "import pandas as pd\n",
    "import numpy as np\n",
    "from sklearn.ensemble import RandomForestRegressor\n",
    "from sklearn.model_selection import train_test_split\n",
    "from sklearn.metrics import mean_squared_error, r2_score\n",
    "\n",
    "# Load the preprocessed CSV file\n",
    "df = pd.read_csv(\"final_data.csv\")\n",
    "\n",
    "# Drop the 'title' column since it's not used for prediction\n",
    "df = df.drop(columns=[\"title\"])\n",
    "\n",
    "# Create a log-transformed target variable\n",
    "df['log_price'] = np.log(df['price'])\n",
    "\n",
    "# Define features (X) and target (y)\n",
    "X = df.drop(columns=['price', 'log_price'])\n",
    "y = df['log_price']\n",
    "\n",
    "# Split data into training and testing sets\n",
    "X_train, X_test, y_train, y_test = train_test_split(X, y, test_size=0.2, random_state=42)\n",
    "\n",
    "# Initialize the model\n",
    "rf = RandomForestRegressor(n_estimators=100, random_state=42)\n",
    "\n",
    "# Train the model\n",
    "rf.fit(X_train, y_train)\n",
    "\n",
    "# Make predictions\n",
    "y_pred = rf.predict(X_test)\n",
    "\n",
    "# Evaluate performance\n",
    "mse = mean_squared_error(y_test, y_pred)\n",
    "r2 = r2_score(y_test, y_pred)\n",
    "\n",
    "print(\"Random Forest Regressor Performance:\")\n",
    "print(\"MSE: {:.2f}\".format(mse))\n",
    "print(\"R2: {:.3f}\".format(r2))\n"
   ]
  },
  {
   "cell_type": "code",
   "execution_count": 3,
   "metadata": {},
   "outputs": [
    {
     "name": "stdout",
     "output_type": "stream",
     "text": [
      "Gradient Boosting Regressor Performance:\n",
      "MSE: 0.21\n",
      "R2: 0.768\n"
     ]
    }
   ],
   "source": [
    "import pandas as pd\n",
    "import numpy as np\n",
    "from sklearn.ensemble import GradientBoostingRegressor\n",
    "from sklearn.model_selection import train_test_split\n",
    "from sklearn.metrics import mean_squared_error, r2_score\n",
    "\n",
    "# Load the preprocessed CSV file\n",
    "df = pd.read_csv(\"final_data.csv\")\n",
    "\n",
    "# Drop the 'title' column since it's not used for prediction\n",
    "df = df.drop(columns=[\"title\"])\n",
    "\n",
    "# Create a log-transformed target variable\n",
    "df['log_price'] = np.log(df['price'])\n",
    "\n",
    "# Define features (X) and target (y)\n",
    "X = df.drop(columns=['price', 'log_price'])\n",
    "y = df['log_price']\n",
    "\n",
    "# Split data into training and testing sets\n",
    "X_train, X_test, y_train, y_test = train_test_split(X, y, test_size=0.2, random_state=42)\n",
    "\n",
    "# Initialize the model\n",
    "gb = GradientBoostingRegressor(n_estimators=100, learning_rate=0.1, random_state=42)\n",
    "\n",
    "# Train the model\n",
    "gb.fit(X_train, y_train)\n",
    "\n",
    "# Make predictions\n",
    "y_pred = gb.predict(X_test)\n",
    "\n",
    "# Evaluate performance\n",
    "mse = mean_squared_error(y_test, y_pred)\n",
    "r2 = r2_score(y_test, y_pred)\n",
    "\n",
    "print(\"Gradient Boosting Regressor Performance:\")\n",
    "print(\"MSE: {:.2f}\".format(mse))\n",
    "print(\"R2: {:.3f}\".format(r2))\n"
   ]
  },
  {
   "cell_type": "code",
   "execution_count": 5,
   "metadata": {},
   "outputs": [
    {
     "name": "stdout",
     "output_type": "stream",
     "text": [
      "[LightGBM] [Info] Auto-choosing row-wise multi-threading, the overhead of testing was 0.008416 seconds.\n",
      "You can set `force_row_wise=true` to remove the overhead.\n",
      "And if memory is not enough, you can set `force_col_wise=true`.\n",
      "[LightGBM] [Info] Total Bins 2077\n",
      "[LightGBM] [Info] Number of data points in the train set: 215057, number of used features: 13\n",
      "[LightGBM] [Info] Start training from score 16.501436\n",
      "LightGBM Regressor Performance:\n",
      "MSE: 0.11\n",
      "R2: 0.878\n"
     ]
    }
   ],
   "source": [
    "import pandas as pd\n",
    "import numpy as np\n",
    "import lightgbm as lgb\n",
    "from sklearn.model_selection import train_test_split\n",
    "from sklearn.metrics import mean_squared_error, r2_score\n",
    "\n",
    "# Load the preprocessed CSV file\n",
    "df = pd.read_csv(\"final_data.csv\")\n",
    "\n",
    "# Drop the 'title' column since it's not used for prediction\n",
    "df = df.drop(columns=[\"title\"])\n",
    "\n",
    "# Create a log-transformed target variable\n",
    "df['log_price'] = np.log(df['price'])\n",
    "\n",
    "# Define features (X) and target (y)\n",
    "X = df.drop(columns=['price', 'log_price'])\n",
    "y = df['log_price']\n",
    "\n",
    "# Split data into training and testing sets\n",
    "X_train, X_test, y_train, y_test = train_test_split(X, y, test_size=0.2, random_state=42)\n",
    "\n",
    "# Initialize the model\n",
    "lgbm = lgb.LGBMRegressor(n_estimators=100, learning_rate=0.1, random_state=42)\n",
    "\n",
    "# Train the model\n",
    "lgbm.fit(X_train, y_train)\n",
    "\n",
    "# Make predictions\n",
    "y_pred = lgbm.predict(X_test)\n",
    "\n",
    "# Evaluate performance\n",
    "mse = mean_squared_error(y_test, y_pred)\n",
    "r2 = r2_score(y_test, y_pred)\n",
    "\n",
    "print(\"LightGBM Regressor Performance:\")\n",
    "print(\"MSE: {:.2f}\".format(mse))\n",
    "print(\"R2: {:.3f}\".format(r2))\n"
   ]
  },
  {
   "cell_type": "code",
   "execution_count": 4,
   "metadata": {},
   "outputs": [
    {
     "name": "stdout",
     "output_type": "stream",
     "text": [
      "Voting Regressor (Ensemble of RF and GB) Performance:\n",
      "MSE : 0.11\n",
      "R2 : 0.880\n"
     ]
    }
   ],
   "source": [
    "import pandas as pd\n",
    "import numpy as np\n",
    "from sklearn.ensemble import RandomForestRegressor, GradientBoostingRegressor, VotingRegressor\n",
    "from sklearn.model_selection import train_test_split\n",
    "from sklearn.metrics import mean_squared_error, r2_score\n",
    "\n",
    "# Load the preprocessed CSV file\n",
    "df = pd.read_csv(\"final_data.csv\")\n",
    "\n",
    "# Drop the 'title' column since it's not used for prediction\n",
    "df = df.drop(columns=[\"title\"])\n",
    "\n",
    "# Create a log-transformed target variable\n",
    "df['log_price'] = np.log(df['price'])\n",
    "\n",
    "# Define features (X) and target (y)\n",
    "X = df.drop(columns=['price', 'log_price'])\n",
    "y = df['log_price']\n",
    "\n",
    "# Split data into training and testing sets\n",
    "X_train, X_test, y_train, y_test = train_test_split(X, y, test_size=0.2, random_state=42)\n",
    "\n",
    "# Initialize the individual models\n",
    "rf = RandomForestRegressor(n_estimators=100, random_state=42)\n",
    "gb = GradientBoostingRegressor(n_estimators=100, learning_rate=0.1, random_state=42)\n",
    "\n",
    "# Create a VotingRegressor ensemble combining RF and GB\n",
    "ensemble = VotingRegressor(estimators=[('rf', rf), ('gb', gb)])\n",
    "\n",
    "# Train the ensemble on the training set\n",
    "ensemble.fit(X_train, y_train)\n",
    "\n",
    "# Make predictions on the test set\n",
    "y_pred = ensemble.predict(X_test)\n",
    "\n",
    "# Evaluate performance\n",
    "ensemble_mse = mean_squared_error(y_test, y_pred)\n",
    "ensemble_r2 = r2_score(y_test, y_pred)\n",
    "\n",
    "print(\"Voting Regressor (Ensemble of RF and GB) Performance:\")\n",
    "print(\"MSE : {:.2f}\".format(ensemble_mse))\n",
    "print(\"R2 : {:.3f}\".format(ensemble_r2))\n"
   ]
  },
  {
   "cell_type": "code",
   "execution_count": null,
   "metadata": {},
   "outputs": [],
   "source": []
  }
 ],
 "metadata": {
  "kernelspec": {
   "display_name": "base",
   "language": "python",
   "name": "python3"
  },
  "language_info": {
   "codemirror_mode": {
    "name": "ipython",
    "version": 3
   },
   "file_extension": ".py",
   "mimetype": "text/x-python",
   "name": "python",
   "nbconvert_exporter": "python",
   "pygments_lexer": "ipython3",
   "version": "3.12.4"
  }
 },
 "nbformat": 4,
 "nbformat_minor": 2
}
